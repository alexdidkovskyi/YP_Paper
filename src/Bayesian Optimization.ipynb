{
 "cells": [
  {
   "cell_type": "code",
   "execution_count": 2,
   "metadata": {},
   "outputs": [],
   "source": [
    "import pandas as pd\n",
    "import numpy as np\n",
    "import pyarrow.feather as feather\n",
    "\n",
    "import sklearn\n",
    "from sklearn.model_selection import KFold, StratifiedKFold\n",
    "from sklearn.model_selection import cross_val_score, cross_val_predict\n",
    "from sklearn.metrics import precision_recall_curve, accuracy_score\n",
    "\n",
    "import xgboost as xgb\n",
    "import optuna\n",
    "\n",
    "import random"
   ]
  },
  {
   "cell_type": "code",
   "execution_count": 3,
   "metadata": {},
   "outputs": [],
   "source": [
    "clf_df = feather.read_feather('../clf_df.feather')"
   ]
  },
  {
   "cell_type": "code",
   "execution_count": 4,
   "metadata": {},
   "outputs": [
    {
     "data": {
      "text/plain": [
       "(1989, 35)"
      ]
     },
     "execution_count": 4,
     "metadata": {},
     "output_type": "execute_result"
    }
   ],
   "source": [
    "clf_df.shape"
   ]
  },
  {
   "cell_type": "code",
   "execution_count": 3,
   "metadata": {},
   "outputs": [
    {
     "data": {
      "text/html": [
       "<div>\n",
       "<style scoped>\n",
       "    .dataframe tbody tr th:only-of-type {\n",
       "        vertical-align: middle;\n",
       "    }\n",
       "\n",
       "    .dataframe tbody tr th {\n",
       "        vertical-align: top;\n",
       "    }\n",
       "\n",
       "    .dataframe thead th {\n",
       "        text-align: right;\n",
       "    }\n",
       "</style>\n",
       "<table border=\"1\" class=\"dataframe\">\n",
       "  <thead>\n",
       "    <tr style=\"text-align: right;\">\n",
       "      <th></th>\n",
       "      <th>a_axis</th>\n",
       "      <th>b_axis</th>\n",
       "      <th>c_axis</th>\n",
       "      <th>Nominal_diameter</th>\n",
       "      <th>Weight</th>\n",
       "      <th>Elongation</th>\n",
       "      <th>Platyness</th>\n",
       "      <th>Sphericity</th>\n",
       "      <th>pebble_PC1</th>\n",
       "      <th>pebble_PC2</th>\n",
       "      <th>...</th>\n",
       "      <th>TipoStartRun_rapid</th>\n",
       "      <th>TipoStartSteep_poolzone</th>\n",
       "      <th>X_Start</th>\n",
       "      <th>Y_Start</th>\n",
       "      <th>X_Start_WGS84</th>\n",
       "      <th>Y_Start_WGS84</th>\n",
       "      <th>Event</th>\n",
       "      <th>graph_dist</th>\n",
       "      <th>graph_vel</th>\n",
       "      <th>domain_type</th>\n",
       "    </tr>\n",
       "  </thead>\n",
       "  <tbody>\n",
       "    <tr>\n",
       "      <th>0</th>\n",
       "      <td>90.0</td>\n",
       "      <td>50.0</td>\n",
       "      <td>40.0</td>\n",
       "      <td>56.462162</td>\n",
       "      <td>300.0</td>\n",
       "      <td>0.555556</td>\n",
       "      <td>0.444444</td>\n",
       "      <td>0.627357</td>\n",
       "      <td>-33.106005</td>\n",
       "      <td>16.98043</td>\n",
       "      <td>...</td>\n",
       "      <td>1</td>\n",
       "      <td>0</td>\n",
       "      <td>9.426893</td>\n",
       "      <td>45.874324</td>\n",
       "      <td>533130.061975</td>\n",
       "      <td>5.080173e+06</td>\n",
       "      <td>1.0</td>\n",
       "      <td>0.0</td>\n",
       "      <td>0.0</td>\n",
       "      <td>Run_rapid</td>\n",
       "    </tr>\n",
       "    <tr>\n",
       "      <th>1</th>\n",
       "      <td>90.0</td>\n",
       "      <td>50.0</td>\n",
       "      <td>40.0</td>\n",
       "      <td>56.462162</td>\n",
       "      <td>300.0</td>\n",
       "      <td>0.555556</td>\n",
       "      <td>0.444444</td>\n",
       "      <td>0.627357</td>\n",
       "      <td>-33.106005</td>\n",
       "      <td>16.98043</td>\n",
       "      <td>...</td>\n",
       "      <td>1</td>\n",
       "      <td>0</td>\n",
       "      <td>9.426893</td>\n",
       "      <td>45.874324</td>\n",
       "      <td>533130.061975</td>\n",
       "      <td>5.080173e+06</td>\n",
       "      <td>2.0</td>\n",
       "      <td>0.0</td>\n",
       "      <td>0.0</td>\n",
       "      <td>Run_rapid</td>\n",
       "    </tr>\n",
       "    <tr>\n",
       "      <th>2</th>\n",
       "      <td>90.0</td>\n",
       "      <td>50.0</td>\n",
       "      <td>40.0</td>\n",
       "      <td>56.462162</td>\n",
       "      <td>300.0</td>\n",
       "      <td>0.555556</td>\n",
       "      <td>0.444444</td>\n",
       "      <td>0.627357</td>\n",
       "      <td>-33.106005</td>\n",
       "      <td>16.98043</td>\n",
       "      <td>...</td>\n",
       "      <td>1</td>\n",
       "      <td>0</td>\n",
       "      <td>9.426893</td>\n",
       "      <td>45.874324</td>\n",
       "      <td>533130.061975</td>\n",
       "      <td>5.080173e+06</td>\n",
       "      <td>3.0</td>\n",
       "      <td>0.0</td>\n",
       "      <td>0.0</td>\n",
       "      <td>Run_rapid</td>\n",
       "    </tr>\n",
       "    <tr>\n",
       "      <th>3</th>\n",
       "      <td>90.0</td>\n",
       "      <td>50.0</td>\n",
       "      <td>40.0</td>\n",
       "      <td>56.462162</td>\n",
       "      <td>300.0</td>\n",
       "      <td>0.555556</td>\n",
       "      <td>0.444444</td>\n",
       "      <td>0.627357</td>\n",
       "      <td>-33.106005</td>\n",
       "      <td>16.98043</td>\n",
       "      <td>...</td>\n",
       "      <td>1</td>\n",
       "      <td>0</td>\n",
       "      <td>9.426893</td>\n",
       "      <td>45.874324</td>\n",
       "      <td>533130.061975</td>\n",
       "      <td>5.080173e+06</td>\n",
       "      <td>4.0</td>\n",
       "      <td>0.0</td>\n",
       "      <td>0.0</td>\n",
       "      <td>Run_rapid</td>\n",
       "    </tr>\n",
       "    <tr>\n",
       "      <th>4</th>\n",
       "      <td>90.0</td>\n",
       "      <td>50.0</td>\n",
       "      <td>40.0</td>\n",
       "      <td>56.462162</td>\n",
       "      <td>300.0</td>\n",
       "      <td>0.555556</td>\n",
       "      <td>0.444444</td>\n",
       "      <td>0.627357</td>\n",
       "      <td>-33.106005</td>\n",
       "      <td>16.98043</td>\n",
       "      <td>...</td>\n",
       "      <td>1</td>\n",
       "      <td>0</td>\n",
       "      <td>9.426893</td>\n",
       "      <td>45.874324</td>\n",
       "      <td>533130.061975</td>\n",
       "      <td>5.080173e+06</td>\n",
       "      <td>5.0</td>\n",
       "      <td>0.0</td>\n",
       "      <td>0.0</td>\n",
       "      <td>Run_rapid</td>\n",
       "    </tr>\n",
       "  </tbody>\n",
       "</table>\n",
       "<p>5 rows × 35 columns</p>\n",
       "</div>"
      ],
      "text/plain": [
       "   a_axis  b_axis  c_axis  Nominal_diameter  Weight  Elongation  Platyness  \\\n",
       "0    90.0    50.0    40.0         56.462162   300.0    0.555556   0.444444   \n",
       "1    90.0    50.0    40.0         56.462162   300.0    0.555556   0.444444   \n",
       "2    90.0    50.0    40.0         56.462162   300.0    0.555556   0.444444   \n",
       "3    90.0    50.0    40.0         56.462162   300.0    0.555556   0.444444   \n",
       "4    90.0    50.0    40.0         56.462162   300.0    0.555556   0.444444   \n",
       "\n",
       "   Sphericity  pebble_PC1  pebble_PC2  ...  TipoStartRun_rapid  \\\n",
       "0    0.627357  -33.106005    16.98043  ...                   1   \n",
       "1    0.627357  -33.106005    16.98043  ...                   1   \n",
       "2    0.627357  -33.106005    16.98043  ...                   1   \n",
       "3    0.627357  -33.106005    16.98043  ...                   1   \n",
       "4    0.627357  -33.106005    16.98043  ...                   1   \n",
       "\n",
       "   TipoStartSteep_poolzone   X_Start    Y_Start  X_Start_WGS84  Y_Start_WGS84  \\\n",
       "0                        0  9.426893  45.874324  533130.061975   5.080173e+06   \n",
       "1                        0  9.426893  45.874324  533130.061975   5.080173e+06   \n",
       "2                        0  9.426893  45.874324  533130.061975   5.080173e+06   \n",
       "3                        0  9.426893  45.874324  533130.061975   5.080173e+06   \n",
       "4                        0  9.426893  45.874324  533130.061975   5.080173e+06   \n",
       "\n",
       "   Event  graph_dist  graph_vel  domain_type  \n",
       "0    1.0         0.0        0.0    Run_rapid  \n",
       "1    2.0         0.0        0.0    Run_rapid  \n",
       "2    3.0         0.0        0.0    Run_rapid  \n",
       "3    4.0         0.0        0.0    Run_rapid  \n",
       "4    5.0         0.0        0.0    Run_rapid  \n",
       "\n",
       "[5 rows x 35 columns]"
      ]
     },
     "execution_count": 3,
     "metadata": {},
     "output_type": "execute_result"
    }
   ],
   "source": [
    "clf_df.head()"
   ]
  },
  {
   "cell_type": "code",
   "execution_count": 4,
   "metadata": {},
   "outputs": [
    {
     "data": {
      "text/plain": [
       "Index(['a_axis', 'b_axis', 'c_axis', 'Nominal_diameter', 'Weight',\n",
       "       'Elongation', 'Platyness', 'Sphericity', 'pebble_PC1', 'pebble_PC2',\n",
       "       'is_stuck_1', 'is_stuck_2', 'is_stuck_3', 'mean_h', 'n_o_s', 'mean_Q',\n",
       "       'weather_PC1', 'weather_PC2', 'cl_', 'duration', 'TipoStartBanks',\n",
       "       'TipoStartBars_sedimentbuildupzones', 'TipoStartCascade',\n",
       "       'TipoStartPlanebed', 'TipoStartPools', 'TipoStartRun_rapid',\n",
       "       'TipoStartSteep_poolzone', 'X_Start', 'Y_Start', 'X_Start_WGS84',\n",
       "       'Y_Start_WGS84', 'Event', 'graph_dist', 'graph_vel', 'domain_type'],\n",
       "      dtype='object')"
      ]
     },
     "execution_count": 4,
     "metadata": {},
     "output_type": "execute_result"
    }
   ],
   "source": [
    "clf_df.columns"
   ]
  },
  {
   "cell_type": "code",
   "execution_count": 5,
   "metadata": {},
   "outputs": [],
   "source": [
    "X_columns = [ 'X_Start','Y_Start','pebble_PC1', 'pebble_PC2', 'weather_PC1','weather_PC2', 'TipoStartBanks',\n",
    "       'TipoStartBars_sedimentbuildupzones', 'TipoStartCascade',\n",
    "       'TipoStartPlanebed', 'TipoStartPools', 'TipoStartRun_rapid',\n",
    "       'TipoStartSteep_poolzone']"
   ]
  },
  {
   "cell_type": "code",
   "execution_count": 6,
   "metadata": {},
   "outputs": [],
   "source": [
    "X = clf_df[X_columns]\n",
    "y = (clf_df['graph_vel'] > 0).astype('float')"
   ]
  },
  {
   "cell_type": "code",
   "execution_count": 15,
   "metadata": {},
   "outputs": [],
   "source": [
    "%%capture\n",
    "def objective(trial):\n",
    "    \n",
    "    param = {}\n",
    "    param[\"verbosity\"] = 0\n",
    "    param[\"objective\"] = \"binary:logistic\"\n",
    "    param[\"lambda\"] = trial.suggest_float(\"lambda\", 1e-8, 100.0, log=True)\n",
    "    param[\"alpha\"] = trial.suggest_float(\"alpha\", 1e-8, 100.0, log=True)\n",
    "    param[\"subsample\"] = trial.suggest_float(\"subsample\", 0.2, 1.0)\n",
    "    param[\"colsample_bytree\"] = trial.suggest_float(\"colsample_bytree\", 0.2, 1.0)\n",
    "    param[\"max_depth\"] = trial.suggest_int(\"max_depth\", 3, 12, step=1)\n",
    "    param[\"min_child_weight\"] = trial.suggest_int(\"min_child_weight\", 2, 20)\n",
    "    param[\"eta\"] = trial.suggest_float(\"eta\", 1e-8, 1.0, log=True)\n",
    "    param[\"gamma\"] = trial.suggest_float(\"gamma\", 1e-8, 1.0, log=True)\n",
    "    param[\"grow_policy\"] = trial.suggest_categorical(\"grow_policy\", [\"depthwise\", \"lossguide\"])\n",
    "    param['n_estimators'] = 300\n",
    "    #param['eta'] = 0.01\n",
    "    param[\"eval_metric\"] = \"logloss\"\n",
    "\n",
    "    \n",
    "    model = xgb.XGBClassifier(**param, use_label_encoder=False)\n",
    "    \n",
    "    accs_ = []\n",
    "    for rs in np.random.choice(int(1e6), 7, replace = False):\n",
    "        kfold = StratifiedKFold(n_splits=5, shuffle = True, random_state=rs)\n",
    "        results = cross_val_predict(model, X, y.astype('int'), cv=kfold, method='predict_proba')\n",
    "        precision, recall, thresholds = precision_recall_curve(y.astype('int'), results[:,1])\n",
    "        f1_scores = 2*recall*precision/(recall+precision)\n",
    "        thr_ = thresholds[np.argmax(f1_scores)]\n",
    "        acc_ = accuracy_score(y, results[:,1] >= thr_)\n",
    "        \n",
    "        accs_.append(acc_)\n",
    "        \n",
    "    mean_acc = np.mean(accs_)\n",
    "\n",
    "    return mean_acc\n",
    "    "
   ]
  },
  {
   "cell_type": "code",
   "execution_count": 14,
   "metadata": {},
   "outputs": [
    {
     "data": {
      "text/plain": [
       "array([35714,  6638, 33204, 11745,   998, 45733, 84479])"
      ]
     },
     "execution_count": 14,
     "metadata": {},
     "output_type": "execute_result"
    }
   ],
   "source": []
  },
  {
   "cell_type": "code",
   "execution_count": null,
   "metadata": {},
   "outputs": [],
   "source": []
  },
  {
   "cell_type": "code",
   "execution_count": null,
   "metadata": {},
   "outputs": [
    {
     "name": "stderr",
     "output_type": "stream",
     "text": [
      "\u001b[32m[I 2021-06-12 12:18:57,623]\u001b[0m A new study created in memory with name: no-name-1ec6f7dc-4bc4-4cdb-bc68-9fa0901a2359\u001b[0m\n",
      "D:\\Programs\\Lang\\Anaconda\\lib\\site-packages\\optuna\\progress_bar.py:47: ExperimentalWarning: Progress bar is experimental (supported from v1.2.0). The interface can change in the future.\n",
      "  self._init_valid()\n"
     ]
    },
    {
     "data": {
      "application/vnd.jupyter.widget-view+json": {
       "model_id": "b12c82313a004dd2ae10e1982c947f2d",
       "version_major": 2,
       "version_minor": 0
      },
      "text/plain": [
       "HBox(children=(HTML(value=''), FloatProgress(value=0.0, max=200.0), HTML(value='')))"
      ]
     },
     "metadata": {},
     "output_type": "display_data"
    },
    {
     "name": "stdout",
     "output_type": "stream",
     "text": [
      "\u001b[32m[I 2021-06-12 12:19:09,146]\u001b[0m Trial 0 finished with value: 0.7874021403433168 and parameters: {'lambda': 1.4508487285782899e-05, 'alpha': 1.2964200489787086e-07, 'subsample': 0.8918787394370227, 'colsample_bytree': 0.6404103945280892, 'max_depth': 3, 'min_child_weight': 3, 'eta': 0.0006027698617560454, 'gamma': 1.4834417341686035e-05, 'grow_policy': 'depthwise'}. Best is trial 0 with value: 0.7874021403433168.\u001b[0m\n",
      "\u001b[32m[I 2021-06-12 12:19:22,245]\u001b[0m Trial 1 finished with value: 0.8427063132945485 and parameters: {'lambda': 1.3833027894498259e-08, 'alpha': 0.021089168075554127, 'subsample': 0.3164472776444831, 'colsample_bytree': 0.31545965060992104, 'max_depth': 7, 'min_child_weight': 5, 'eta': 0.021918597084749206, 'gamma': 5.052999884643191e-07, 'grow_policy': 'lossguide'}. Best is trial 1 with value: 0.8427063132945485.\u001b[0m\n",
      "\u001b[32m[I 2021-06-12 12:19:30,628]\u001b[0m Trial 2 finished with value: 0.7795733678086619 and parameters: {'lambda': 2.9129493213200728e-06, 'alpha': 9.507487432612635e-07, 'subsample': 0.20383485493314213, 'colsample_bytree': 0.9737378360372106, 'max_depth': 9, 'min_child_weight': 15, 'eta': 0.021974095183898174, 'gamma': 2.6343456842850735e-05, 'grow_policy': 'lossguide'}. Best is trial 1 with value: 0.8427063132945485.\u001b[0m\n",
      "\u001b[32m[I 2021-06-12 12:19:41,336]\u001b[0m Trial 3 finished with value: 0.7529268117503412 and parameters: {'lambda': 0.14027930785542597, 'alpha': 18.13020187779269, 'subsample': 0.7071310310006511, 'colsample_bytree': 0.8271725566313133, 'max_depth': 6, 'min_child_weight': 18, 'eta': 0.0006966791791224682, 'gamma': 2.9788642674173603e-06, 'grow_policy': 'lossguide'}. Best is trial 1 with value: 0.8427063132945485.\u001b[0m\n",
      "\u001b[32m[I 2021-06-12 12:19:49,260]\u001b[0m Trial 4 finished with value: 0.7408604467427997 and parameters: {'lambda': 56.094509758733686, 'alpha': 19.220281149332504, 'subsample': 0.29568244080085465, 'colsample_bytree': 0.6145852760319004, 'max_depth': 8, 'min_child_weight': 6, 'eta': 3.1114189771218717e-07, 'gamma': 1.9770963869172236e-07, 'grow_policy': 'depthwise'}. Best is trial 1 with value: 0.8427063132945485.\u001b[0m\n",
      "\u001b[32m[I 2021-06-12 12:19:58,523]\u001b[0m Trial 5 finished with value: 0.7550096961861668 and parameters: {'lambda': 69.02060432572078, 'alpha': 0.0005622082860409729, 'subsample': 0.5096810002904661, 'colsample_bytree': 0.5553838549057655, 'max_depth': 4, 'min_child_weight': 11, 'eta': 2.7031490881422545e-05, 'gamma': 1.1099566498655551e-08, 'grow_policy': 'depthwise'}. Best is trial 1 with value: 0.8427063132945485.\u001b[0m\n",
      "\u001b[32m[I 2021-06-12 12:20:05,730]\u001b[0m Trial 6 finished with value: 0.8004740357681533 and parameters: {'lambda': 1.1830396237439014, 'alpha': 31.842636452215338, 'subsample': 0.8140464041988498, 'colsample_bytree': 0.842820319725265, 'max_depth': 9, 'min_child_weight': 6, 'eta': 0.3649696557947499, 'gamma': 0.0012270561175487485, 'grow_policy': 'depthwise'}. Best is trial 1 with value: 0.8427063132945485.\u001b[0m\n",
      "\u001b[32m[I 2021-06-12 12:20:18,857]\u001b[0m Trial 7 finished with value: 0.8067226890756302 and parameters: {'lambda': 6.984174547227946e-05, 'alpha': 7.003549087978453e-08, 'subsample': 0.7848849501054078, 'colsample_bytree': 0.8088289994682245, 'max_depth': 5, 'min_child_weight': 5, 'eta': 3.397302749341944e-08, 'gamma': 0.04170999797730676, 'grow_policy': 'depthwise'}. Best is trial 1 with value: 0.8427063132945485.\u001b[0m\n",
      "\u001b[32m[I 2021-06-12 12:20:28,353]\u001b[0m Trial 8 finished with value: 0.7871148459383753 and parameters: {'lambda': 2.2714738251558257, 'alpha': 2.095831408222688, 'subsample': 0.4212406178845835, 'colsample_bytree': 0.6130026141035754, 'max_depth': 3, 'min_child_weight': 3, 'eta': 0.00011340913592897376, 'gamma': 0.001701520561709414, 'grow_policy': 'lossguide'}. Best is trial 1 with value: 0.8427063132945485.\u001b[0m\n",
      "\u001b[32m[I 2021-06-12 12:20:38,590]\u001b[0m Trial 9 finished with value: 0.77820871938519 and parameters: {'lambda': 0.0011344033299861233, 'alpha': 0.02288272813390117, 'subsample': 0.27414922622123505, 'colsample_bytree': 0.8716907796863353, 'max_depth': 5, 'min_child_weight': 12, 'eta': 0.002082107714575993, 'gamma': 1.5057847341309987e-05, 'grow_policy': 'lossguide'}. Best is trial 1 with value: 0.8427063132945485.\u001b[0m\n",
      "\u001b[32m[I 2021-06-12 12:20:48,357]\u001b[0m Trial 10 finished with value: 0.8531207354736765 and parameters: {'lambda': 1.1877659898368007e-08, 'alpha': 0.00011235746701232106, 'subsample': 0.4480159224886635, 'colsample_bytree': 0.33807762648282996, 'max_depth': 12, 'min_child_weight': 8, 'eta': 0.4461835526556047, 'gamma': 1.122771502052758e-08, 'grow_policy': 'lossguide'}. Best is trial 10 with value: 0.8531207354736765.\u001b[0m\n",
      "\u001b[32m[I 2021-06-12 12:20:57,126]\u001b[0m Trial 11 finished with value: 0.8427063132945485 and parameters: {'lambda': 1.2113162554868067e-08, 'alpha': 0.00011370000639295813, 'subsample': 0.41712168265036176, 'colsample_bytree': 0.22152997459625046, 'max_depth': 12, 'min_child_weight': 9, 'eta': 0.5664257248296238, 'gamma': 1.838639935747553e-08, 'grow_policy': 'lossguide'}. Best is trial 10 with value: 0.8531207354736765.\u001b[0m\n",
      "\u001b[32m[I 2021-06-12 12:21:08,751]\u001b[0m Trial 12 finished with value: 0.8413416648710765 and parameters: {'lambda': 1.667392232107379e-08, 'alpha': 0.05416658490756918, 'subsample': 0.587538232990102, 'colsample_bytree': 0.22355451640363927, 'max_depth': 12, 'min_child_weight': 8, 'eta': 0.045745443135546945, 'gamma': 3.1917761257485717e-07, 'grow_policy': 'lossguide'}. Best is trial 10 with value: 0.8531207354736765.\u001b[0m\n",
      "\u001b[32m[I 2021-06-12 12:21:17,658]\u001b[0m Trial 13 finished with value: 0.8396897220426631 and parameters: {'lambda': 7.812395375044153e-08, 'alpha': 2.3253401350651995e-05, 'subsample': 0.4068765621803703, 'colsample_bytree': 0.3840333754219003, 'max_depth': 10, 'min_child_weight': 8, 'eta': 0.8501643462284079, 'gamma': 1.5103450666504216e-07, 'grow_policy': 'lossguide'}. Best is trial 10 with value: 0.8531207354736765.\u001b[0m\n",
      "\u001b[32m[I 2021-06-12 12:21:30,627]\u001b[0m Trial 14 finished with value: 0.8600876247935071 and parameters: {'lambda': 4.803585157936318e-07, 'alpha': 0.02617165657442046, 'subsample': 0.31625949099186923, 'colsample_bytree': 0.32271908775873137, 'max_depth': 7, 'min_child_weight': 2, 'eta': 0.028945959445820766, 'gamma': 1.1241732552137045e-08, 'grow_policy': 'lossguide'}. Best is trial 14 with value: 0.8600876247935071.\u001b[0m\n",
      "\u001b[32m[I 2021-06-12 12:21:41,400]\u001b[0m Trial 15 finished with value: 0.8524024994613228 and parameters: {'lambda': 4.676225511944905e-07, 'alpha': 7.240945148305624e-06, 'subsample': 0.556712172108472, 'colsample_bytree': 0.4344052166086442, 'max_depth': 11, 'min_child_weight': 14, 'eta': 0.08368688475074322, 'gamma': 1.1628341980932635e-08, 'grow_policy': 'lossguide'}. Best is trial 14 with value: 0.8600876247935071.\u001b[0m\n",
      "\u001b[32m[I 2021-06-12 12:21:58,399]\u001b[0m Trial 16 finished with value: 0.8460820225526107 and parameters: {'lambda': 0.0012191486550522752, 'alpha': 0.0031282944491897485, 'subsample': 0.6631891901773104, 'colsample_bytree': 0.47746063470055705, 'max_depth': 7, 'min_child_weight': 2, 'eta': 2.4201770639866283e-06, 'gamma': 0.24690292096315164, 'grow_policy': 'lossguide'}. Best is trial 14 with value: 0.8600876247935071.\u001b[0m\n",
      "\u001b[32m[I 2021-06-12 12:22:05,914]\u001b[0m Trial 17 finished with value: 0.7257774904833728 and parameters: {'lambda': 5.308631605507549e-07, 'alpha': 0.674976905646918, 'subsample': 0.20328886433548154, 'colsample_bytree': 0.3065980549155651, 'max_depth': 8, 'min_child_weight': 19, 'eta': 0.00310281207289999, 'gamma': 4.813990227513377e-08, 'grow_policy': 'lossguide'}. Best is trial 14 with value: 0.8600876247935071.\u001b[0m\n",
      "\u001b[32m[I 2021-06-12 12:22:17,251]\u001b[0m Trial 18 finished with value: 0.8363140127846009 and parameters: {'lambda': 0.00017450108824022296, 'alpha': 0.0009810726212995473, 'subsample': 0.4652077586905148, 'colsample_bytree': 0.3062365957336646, 'max_depth': 10, 'min_child_weight': 2, 'eta': 0.8138570993923445, 'gamma': 1.7660327229691486e-06, 'grow_policy': 'lossguide'}. Best is trial 14 with value: 0.8600876247935071.\u001b[0m\n",
      "\u001b[32m[I 2021-06-12 12:22:29,048]\u001b[0m Trial 19 finished with value: 0.8176398764634057 and parameters: {'lambda': 0.01498999862269759, 'alpha': 0.1184911950504278, 'subsample': 0.3429794594147126, 'colsample_bytree': 0.5342523853166543, 'max_depth': 6, 'min_child_weight': 9, 'eta': 0.006872397563871015, 'gamma': 0.00018799419220146273, 'grow_policy': 'lossguide'}. Best is trial 14 with value: 0.8600876247935071.\u001b[0m\n"
     ]
    },
    {
     "name": "stdout",
     "output_type": "stream",
     "text": [
      "\u001b[32m[I 2021-06-12 12:22:37,130]\u001b[0m Trial 20 finished with value: 0.8225238813474106 and parameters: {'lambda': 2.7756003951431786e-07, 'alpha': 2.9952117323300574e-05, 'subsample': 0.20185035589046668, 'colsample_bytree': 0.6958497303096549, 'max_depth': 9, 'min_child_weight': 13, 'eta': 0.1477677374352248, 'gamma': 4.565759006143239e-08, 'grow_policy': 'lossguide'}. Best is trial 14 with value: 0.8600876247935071.\u001b[0m\n",
      "\u001b[32m[I 2021-06-12 12:22:47,525]\u001b[0m Trial 21 finished with value: 0.849673202614379 and parameters: {'lambda': 2.3359967516064687e-06, 'alpha': 3.687166731468963e-06, 'subsample': 0.5310620449754879, 'colsample_bytree': 0.43393940313335105, 'max_depth': 11, 'min_child_weight': 15, 'eta': 0.0923114569041753, 'gamma': 1.8431635430239502e-08, 'grow_policy': 'lossguide'}. Best is trial 14 with value: 0.8600876247935071.\u001b[0m\n",
      "\u001b[32m[I 2021-06-12 12:22:58,227]\u001b[0m Trial 22 finished with value: 0.8551317963082667 and parameters: {'lambda': 8.649201509019795e-08, 'alpha': 1.1281309092491777e-06, 'subsample': 0.5687484823019338, 'colsample_bytree': 0.3978285023894731, 'max_depth': 11, 'min_child_weight': 14, 'eta': 0.11415796253723764, 'gamma': 1.0160172766829826e-08, 'grow_policy': 'lossguide'}. Best is trial 14 with value: 0.8600876247935071.\u001b[0m\n",
      "\u001b[32m[I 2021-06-12 12:23:10,847]\u001b[0m Trial 23 finished with value: 0.8276233570351216 and parameters: {'lambda': 7.11263116486926e-08, 'alpha': 1.1468879203136296e-08, 'subsample': 0.6702780271452846, 'colsample_bytree': 0.36197567983414625, 'max_depth': 12, 'min_child_weight': 15, 'eta': 0.012759966058237008, 'gamma': 1.0148396493581777e-08, 'grow_policy': 'lossguide'}. Best is trial 14 with value: 0.8600876247935071.\u001b[0m\n",
      "\u001b[32m[I 2021-06-12 12:23:18,595]\u001b[0m Trial 24 finished with value: 0.8177835236658765 and parameters: {'lambda': 4.233074326225563e-06, 'alpha': 6.162401334638703e-07, 'subsample': 0.36337563233121467, 'colsample_bytree': 0.24718978299245664, 'max_depth': 11, 'min_child_weight': 18, 'eta': 0.9952141978833805, 'gamma': 7.749649693792585e-08, 'grow_policy': 'lossguide'}. Best is trial 14 with value: 0.8600876247935071.\u001b[0m\n",
      "\u001b[32m[I 2021-06-12 12:23:28,381]\u001b[0m Trial 25 finished with value: 0.8465847877612582 and parameters: {'lambda': 7.648085160107582e-08, 'alpha': 0.0001285739910834343, 'subsample': 0.49377643487748857, 'colsample_bytree': 0.4825049250761645, 'max_depth': 10, 'min_child_weight': 17, 'eta': 0.14720696077477602, 'gamma': 9.064069271559368e-07, 'grow_policy': 'lossguide'}. Best is trial 14 with value: 0.8600876247935071.\u001b[0m\n",
      "\u001b[32m[I 2021-06-12 12:23:41,508]\u001b[0m Trial 26 finished with value: 0.8113193995546936 and parameters: {'lambda': 1.595591713441589e-08, 'alpha': 0.005205744528940046, 'subsample': 0.6025731571935691, 'colsample_bytree': 0.39587330969308704, 'max_depth': 6, 'min_child_weight': 11, 'eta': 7.497625813089786e-05, 'gamma': 5.414955389621815e-08, 'grow_policy': 'lossguide'}. Best is trial 14 with value: 0.8600876247935071.\u001b[0m\n",
      "\u001b[32m[I 2021-06-12 12:23:51,072]\u001b[0m Trial 27 finished with value: 0.8489549666020253 and parameters: {'lambda': 1.939679942763984e-07, 'alpha': 0.00026065856469073133, 'subsample': 0.45655550860245053, 'colsample_bytree': 0.28356039765707003, 'max_depth': 8, 'min_child_weight': 13, 'eta': 0.23786791084184766, 'gamma': 4.730136253913196e-06, 'grow_policy': 'lossguide'}. Best is trial 14 with value: 0.8600876247935071.\u001b[0m\n",
      "\u001b[32m[I 2021-06-12 12:24:01,544]\u001b[0m Trial 28 finished with value: 0.7957336780866192 and parameters: {'lambda': 1.9562627506290934e-05, 'alpha': 0.2782474079597454, 'subsample': 0.26744116115327954, 'colsample_bytree': 0.34185649833223225, 'max_depth': 11, 'min_child_weight': 10, 'eta': 0.003953532045767635, 'gamma': 1.0513887467388505e-08, 'grow_policy': 'lossguide'}. Best is trial 14 with value: 0.8600876247935071.\u001b[0m\n",
      "\u001b[32m[I 2021-06-12 12:24:17,185]\u001b[0m Trial 29 finished with value: 0.8397615456438985 and parameters: {'lambda': 1.3905563273221575e-05, 'alpha': 1.3495623648544982e-08, 'subsample': 0.3775868188124746, 'colsample_bytree': 0.6998792031653696, 'max_depth': 7, 'min_child_weight': 3, 'eta': 0.0002660783445733804, 'gamma': 4.24081445652773e-07, 'grow_policy': 'depthwise'}. Best is trial 14 with value: 0.8600876247935071.\u001b[0m\n",
      "\u001b[32m[I 2021-06-12 12:24:30,502]\u001b[0m Trial 30 finished with value: 0.8422753716871363 and parameters: {'lambda': 4.391149869234786e-08, 'alpha': 6.413280989520442e-08, 'subsample': 0.9995946876693252, 'colsample_bytree': 0.5098993610463409, 'max_depth': 12, 'min_child_weight': 20, 'eta': 0.029225492066672798, 'gamma': 8.013336786124868e-05, 'grow_policy': 'lossguide'}. Best is trial 14 with value: 0.8600876247935071.\u001b[0m\n",
      "\u001b[32m[I 2021-06-12 12:24:41,940]\u001b[0m Trial 31 finished with value: 0.8493859082094375 and parameters: {'lambda': 1.114368095326891e-06, 'alpha': 9.285017233160284e-06, 'subsample': 0.5657173649992755, 'colsample_bytree': 0.43161299100703393, 'max_depth': 11, 'min_child_weight': 14, 'eta': 0.07060992832110057, 'gamma': 2.3198733857931355e-08, 'grow_policy': 'lossguide'}. Best is trial 14 with value: 0.8600876247935071.\u001b[0m\n",
      "\u001b[32m[I 2021-06-12 12:24:52,210]\u001b[0m Trial 32 finished with value: 0.8549163255045606 and parameters: {'lambda': 3.4144520969678266e-07, 'alpha': 1.0145549122571856e-06, 'subsample': 0.618400583306024, 'colsample_bytree': 0.42825427398276683, 'max_depth': 10, 'min_child_weight': 16, 'eta': 0.28140819151764407, 'gamma': 1.1881354599698794e-07, 'grow_policy': 'lossguide'}. Best is trial 14 with value: 0.8600876247935071.\u001b[0m\n",
      "\u001b[32m[I 2021-06-12 12:25:04,785]\u001b[0m Trial 33 finished with value: 0.8185017596782301 and parameters: {'lambda': 9.945285725792676e-06, 'alpha': 9.463079954882931e-07, 'subsample': 0.7235272577573795, 'colsample_bytree': 0.260528223583709, 'max_depth': 10, 'min_child_weight': 16, 'eta': 0.013227722754727186, 'gamma': 1.2445988885634322e-07, 'grow_policy': 'lossguide'}. Best is trial 14 with value: 0.8600876247935071.\u001b[0m\n",
      "\u001b[32m[I 2021-06-12 12:25:18,006]\u001b[0m Trial 34 finished with value: 0.8067226890756302 and parameters: {'lambda': 2.0664908820441847e-08, 'alpha': 0.005580722041458134, 'subsample': 0.634457536887191, 'colsample_bytree': 0.3422939704922644, 'max_depth': 9, 'min_child_weight': 16, 'eta': 0.0009396301408540956, 'gamma': 7.455125312931949e-07, 'grow_policy': 'lossguide'}. Best is trial 14 with value: 0.8600876247935071.\u001b[0m\n",
      "\u001b[32m[I 2021-06-12 12:25:28,739]\u001b[0m Trial 35 finished with value: 0.8613086260145082 and parameters: {'lambda': 1.037362387503979e-06, 'alpha': 2.7220099366618815e-07, 'subsample': 0.7355042476785765, 'colsample_bytree': 0.4041420712198425, 'max_depth': 12, 'min_child_weight': 17, 'eta': 0.4109020385310953, 'gamma': 2.9042633270360135e-08, 'grow_policy': 'lossguide'}. Best is trial 35 with value: 0.8613086260145082.\u001b[0m\n",
      "\u001b[32m[I 2021-06-12 12:25:43,103]\u001b[0m Trial 36 finished with value: 0.8459383753501399 and parameters: {'lambda': 9.12324516217374e-05, 'alpha': 3.7221405981640077e-07, 'subsample': 0.9000315098123293, 'colsample_bytree': 0.564689913538965, 'max_depth': 10, 'min_child_weight': 17, 'eta': 0.02094957424506533, 'gamma': 3.6749725263216206e-08, 'grow_policy': 'lossguide'}. Best is trial 35 with value: 0.8613086260145082.\u001b[0m\n",
      "\u001b[32m[I 2021-06-12 12:25:53,763]\u001b[0m Trial 37 finished with value: 0.8594412123823888 and parameters: {'lambda': 2.172901632949325e-06, 'alpha': 2.339347022825363e-07, 'subsample': 0.7796568334267046, 'colsample_bytree': 0.3997819235199346, 'max_depth': 8, 'min_child_weight': 19, 'eta': 0.25003912837134573, 'gamma': 1.7176956566978275e-07, 'grow_policy': 'lossguide'}. Best is trial 35 with value: 0.8613086260145082.\u001b[0m\n",
      "\u001b[32m[I 2021-06-12 12:26:03,512]\u001b[0m Trial 38 finished with value: 0.8503196150254972 and parameters: {'lambda': 1.648114261149548e-06, 'alpha': 1.4006386511752054e-07, 'subsample': 0.8179529057834244, 'colsample_bytree': 0.46783541137716467, 'max_depth': 5, 'min_child_weight': 20, 'eta': 0.996486226296455, 'gamma': 5.394258737272112e-06, 'grow_policy': 'depthwise'}. Best is trial 35 with value: 0.8613086260145082.\u001b[0m\n",
      "\u001b[32m[I 2021-06-12 12:26:16,254]\u001b[0m Trial 39 finished with value: 0.8457947281476692 and parameters: {'lambda': 4.34215813171084e-06, 'alpha': 3.9425035189379804e-08, 'subsample': 0.9306177280028464, 'colsample_bytree': 0.3913471476273995, 'max_depth': 7, 'min_child_weight': 19, 'eta': 0.036262086486510886, 'gamma': 2.719684140245709e-07, 'grow_policy': 'lossguide'}. Best is trial 35 with value: 0.8613086260145082.\u001b[0m\n"
     ]
    },
    {
     "name": "stdout",
     "output_type": "stream",
     "text": [
      "\u001b[32m[I 2021-06-12 12:26:30,698]\u001b[0m Trial 40 finished with value: 0.802772391007685 and parameters: {'lambda': 0.00028003342821531803, 'alpha': 2.0208232479754145e-07, 'subsample': 0.7339392460221044, 'colsample_bytree': 0.5811102351672001, 'max_depth': 8, 'min_child_weight': 18, 'eta': 8.46390279919901e-06, 'gamma': 9.176787204453205e-07, 'grow_policy': 'depthwise'}. Best is trial 35 with value: 0.8613086260145082.\u001b[0m\n",
      "\u001b[32m[I 2021-06-12 12:26:41,831]\u001b[0m Trial 41 finished with value: 0.8593693887811533 and parameters: {'lambda': 1.738920685336083e-07, 'alpha': 2.643360473726602e-06, 'subsample': 0.7720511853526925, 'colsample_bytree': 0.4206655978544206, 'max_depth': 9, 'min_child_weight': 17, 'eta': 0.2270689349825941, 'gamma': 1.298784890730889e-07, 'grow_policy': 'lossguide'}. Best is trial 35 with value: 0.8613086260145082.\u001b[0m\n",
      "\u001b[32m[I 2021-06-12 12:26:52,904]\u001b[0m Trial 42 finished with value: 0.8593693887811533 and parameters: {'lambda': 1.6582531879030594e-07, 'alpha': 3.878207894196523e-06, 'subsample': 0.7882597460255086, 'colsample_bytree': 0.38977959384282995, 'max_depth': 9, 'min_child_weight': 17, 'eta': 0.2111162282723389, 'gamma': 3.042398911062384e-08, 'grow_policy': 'lossguide'}. Best is trial 35 with value: 0.8613086260145082.\u001b[0m\n",
      "\u001b[32m[I 2021-06-12 12:27:03,357]\u001b[0m Trial 43 finished with value: 0.8559218559218558 and parameters: {'lambda': 1.0474765210819157e-06, 'alpha': 2.3928186059595196e-06, 'subsample': 0.7976586420887641, 'colsample_bytree': 0.2846095123129997, 'max_depth': 9, 'min_child_weight': 19, 'eta': 0.26591327472348236, 'gamma': 9.880421780353005e-08, 'grow_policy': 'lossguide'}. Best is trial 35 with value: 0.8613086260145082.\u001b[0m\n",
      "\u001b[32m[I 2021-06-12 12:27:12,509]\u001b[0m Trial 44 finished with value: 0.8419162536809595 and parameters: {'lambda': 4.468819108279932e-05, 'alpha': 5.586250633156371, 'subsample': 0.8617576386280864, 'colsample_bytree': 0.2014532117095915, 'max_depth': 8, 'min_child_weight': 17, 'eta': 0.33707231791847303, 'gamma': 2.0052629437111867e-06, 'grow_policy': 'lossguide'}. Best is trial 35 with value: 0.8613086260145082.\u001b[0m\n",
      "\u001b[32m[I 2021-06-12 12:27:25,896]\u001b[0m Trial 45 finished with value: 0.8235294117647057 and parameters: {'lambda': 1.7412041085172173e-07, 'alpha': 3.491645994801663e-08, 'subsample': 0.7556082385315857, 'colsample_bytree': 0.49142130654551364, 'max_depth': 9, 'min_child_weight': 20, 'eta': 0.008326100950127329, 'gamma': 2.20130200003596e-08, 'grow_policy': 'lossguide'}. Best is trial 35 with value: 0.8613086260145082.\u001b[0m\n",
      "\u001b[32m[I 2021-06-12 12:27:38,238]\u001b[0m Trial 46 finished with value: 0.8478057889822594 and parameters: {'lambda': 7.127854888723448e-07, 'alpha': 2.7114102361837615e-05, 'subsample': 0.8407484849267711, 'colsample_bytree': 0.36337754294611246, 'max_depth': 7, 'min_child_weight': 17, 'eta': 0.04595815488625868, 'gamma': 2.451514117300734e-07, 'grow_policy': 'lossguide'}. Best is trial 35 with value: 0.8613086260145082.\u001b[0m\n",
      "\u001b[32m[I 2021-06-12 12:27:48,132]\u001b[0m Trial 47 finished with value: 0.8562091503267972 and parameters: {'lambda': 5.448100147448829e-06, 'alpha': 2.995805880860451e-07, 'subsample': 0.7590157048380055, 'colsample_bytree': 0.4544741405856507, 'max_depth': 8, 'min_child_weight': 19, 'eta': 0.5742523380703116, 'gamma': 0.007779914855889963, 'grow_policy': 'lossguide'}. Best is trial 35 with value: 0.8613086260145082.\u001b[0m\n",
      "\u001b[32m[I 2021-06-12 12:27:58,638]\u001b[0m Trial 48 finished with value: 0.8527616174674997 and parameters: {'lambda': 2.7300817813841342e-05, 'alpha': 9.581989891893448e-06, 'subsample': 0.6859315996805294, 'colsample_bytree': 0.3236690848990717, 'max_depth': 6, 'min_child_weight': 18, 'eta': 0.19524457035413584, 'gamma': 3.5173254594374396e-08, 'grow_policy': 'lossguide'}. Best is trial 35 with value: 0.8613086260145082.\u001b[0m\n",
      "\u001b[32m[I 2021-06-12 12:28:12,818]\u001b[0m Trial 49 finished with value: 0.8534798534798533 and parameters: {'lambda': 2.1330282090368973e-07, 'alpha': 0.020050943762403753, 'subsample': 0.9464441406393189, 'colsample_bytree': 0.6364749269234746, 'max_depth': 7, 'min_child_weight': 16, 'eta': 0.05762806120727968, 'gamma': 1.8375327628459985e-07, 'grow_policy': 'lossguide'}. Best is trial 35 with value: 0.8613086260145082.\u001b[0m\n",
      "\u001b[32m[I 2021-06-12 12:28:23,359]\u001b[0m Trial 50 finished with value: 0.8584356819650936 and parameters: {'lambda': 3.266161173422859e-08, 'alpha': 2.848327913616313e-06, 'subsample': 0.7658073676083257, 'colsample_bytree': 0.5101680081611792, 'max_depth': 8, 'min_child_weight': 18, 'eta': 0.437564637773666, 'gamma': 1.3489746721510162e-05, 'grow_policy': 'depthwise'}. Best is trial 35 with value: 0.8613086260145082.\u001b[0m\n",
      "\u001b[32m[I 2021-06-12 12:28:33,262]\u001b[0m Trial 51 finished with value: 0.8544135602959131 and parameters: {'lambda': 3.892561157514907e-08, 'alpha': 3.0687195327203004e-06, 'subsample': 0.7792239870969634, 'colsample_bytree': 0.5300609409430449, 'max_depth': 8, 'min_child_weight': 18, 'eta': 0.9947601693937944, 'gamma': 2.3389843910933592e-05, 'grow_policy': 'lossguide'}. Best is trial 35 with value: 0.8613086260145082.\u001b[0m\n",
      "\u001b[32m[I 2021-06-12 12:28:46,588]\u001b[0m Trial 52 finished with value: 0.8607340372046256 and parameters: {'lambda': 3.30411043606782e-08, 'alpha': 1.391530708252731e-07, 'subsample': 0.863205119091354, 'colsample_bytree': 0.4075300837066379, 'max_depth': 9, 'min_child_weight': 5, 'eta': 0.43444325272670165, 'gamma': 0.0002492170194605233, 'grow_policy': 'depthwise'}. Best is trial 35 with value: 0.8613086260145082.\u001b[0m\n",
      "\u001b[32m[I 2021-06-12 12:29:02,499]\u001b[0m Trial 53 finished with value: 0.8662644544997489 and parameters: {'lambda': 1.1064171331597872e-08, 'alpha': 7.888970068403097e-08, 'subsample': 0.8827526152992214, 'colsample_bytree': 0.4117061828273225, 'max_depth': 9, 'min_child_weight': 4, 'eta': 0.11459378969458432, 'gamma': 0.00027037604781120575, 'grow_policy': 'depthwise'}. Best is trial 53 with value: 0.8662644544997489.\u001b[0m\n",
      "\u001b[32m[I 2021-06-12 12:29:21,754]\u001b[0m Trial 54 finished with value: 0.8495295554119082 and parameters: {'lambda': 5.323719950235402e-07, 'alpha': 1.9325111146473922e-08, 'subsample': 0.8714533016981011, 'colsample_bytree': 0.37022507208021427, 'max_depth': 9, 'min_child_weight': 4, 'eta': 1.9595268780686475e-07, 'gamma': 0.0005408796356392872, 'grow_policy': 'depthwise'}. Best is trial 53 with value: 0.8662644544997489.\u001b[0m\n",
      "\u001b[32m[I 2021-06-12 12:29:36,334]\u001b[0m Trial 55 finished with value: 0.8590820943762122 and parameters: {'lambda': 1.2253561273247342e-08, 'alpha': 8.942622220634205e-08, 'subsample': 0.9027250623322172, 'colsample_bytree': 0.4145425175801801, 'max_depth': 6, 'min_child_weight': 6, 'eta': 0.02095685049864762, 'gamma': 9.874504695152175e-05, 'grow_policy': 'depthwise'}. Best is trial 53 with value: 0.8662644544997489.\u001b[0m\n",
      "\u001b[32m[I 2021-06-12 12:29:51,969]\u001b[0m Trial 56 finished with value: 0.8678445737269269 and parameters: {'lambda': 1.0452081036755302e-08, 'alpha': 1.4617197274668254e-07, 'subsample': 0.9969802204479449, 'colsample_bytree': 0.31315784951811254, 'max_depth': 9, 'min_child_weight': 4, 'eta': 0.12052378379164055, 'gamma': 0.0003153736842890835, 'grow_policy': 'depthwise'}. Best is trial 56 with value: 0.8678445737269269.\u001b[0m\n",
      "\u001b[32m[I 2021-06-12 12:30:05,868]\u001b[0m Trial 57 finished with value: 0.8686346333405159 and parameters: {'lambda': 0.02603794157974641, 'alpha': 3.072071211860193e-08, 'subsample': 0.997163284092546, 'colsample_bytree': 0.2935650395692325, 'max_depth': 7, 'min_child_weight': 4, 'eta': 0.0874175182669841, 'gamma': 0.003311845071614848, 'grow_policy': 'depthwise'}. Best is trial 57 with value: 0.8686346333405159.\u001b[0m\n",
      "\u001b[32m[I 2021-06-12 12:30:17,303]\u001b[0m Trial 58 finished with value: 0.8610213316095668 and parameters: {'lambda': 0.054687448285225426, 'alpha': 1.6097094127535513e-08, 'subsample': 0.9784958283528408, 'colsample_bytree': 0.200850746435762, 'max_depth': 5, 'min_child_weight': 4, 'eta': 0.10638020700282974, 'gamma': 0.004123927101473676, 'grow_policy': 'depthwise'}. Best is trial 57 with value: 0.8686346333405159.\u001b[0m\n",
      "\u001b[32m[I 2021-06-12 12:30:26,713]\u001b[0m Trial 59 finished with value: 0.8535516770810887 and parameters: {'lambda': 0.0645220782387704, 'alpha': 2.8232509224897168e-08, 'subsample': 0.9969851158331714, 'colsample_bytree': 0.21342290051657523, 'max_depth': 3, 'min_child_weight': 4, 'eta': 0.09555649348926637, 'gamma': 0.0046993263096234235, 'grow_policy': 'depthwise'}. Best is trial 57 with value: 0.8686346333405159.\u001b[0m\n"
     ]
    },
    {
     "name": "stdout",
     "output_type": "stream",
     "text": [
      "\u001b[32m[I 2021-06-12 12:30:38,081]\u001b[0m Trial 60 finished with value: 0.8572146807440923 and parameters: {'lambda': 0.004756045373451184, 'alpha': 1.0212811960646563e-08, 'subsample': 0.9606671809757664, 'colsample_bytree': 0.23899063178267632, 'max_depth': 5, 'min_child_weight': 6, 'eta': 0.6288613417474003, 'gamma': 0.0004684683754524571, 'grow_policy': 'depthwise'}. Best is trial 57 with value: 0.8686346333405159.\u001b[0m\n",
      "\u001b[32m[I 2021-06-12 12:30:49,337]\u001b[0m Trial 61 finished with value: 0.8618113912231561 and parameters: {'lambda': 0.7128404539367207, 'alpha': 9.057987276705907e-08, 'subsample': 0.9876427270578368, 'colsample_bytree': 0.2713982145536562, 'max_depth': 4, 'min_child_weight': 4, 'eta': 0.10149964403369265, 'gamma': 0.016723678031543707, 'grow_policy': 'depthwise'}. Best is trial 57 with value: 0.8686346333405159.\u001b[0m\n",
      "\u001b[32m[I 2021-06-12 12:31:00,504]\u001b[0m Trial 62 finished with value: 0.8612368024132729 and parameters: {'lambda': 2.5084141004787703, 'alpha': 7.29020931313725e-08, 'subsample': 0.9750879153681172, 'colsample_bytree': 0.2709374454025977, 'max_depth': 4, 'min_child_weight': 4, 'eta': 0.0853163287076992, 'gamma': 0.0508458991861309, 'grow_policy': 'depthwise'}. Best is trial 57 with value: 0.8686346333405159.\u001b[0m\n",
      "\u001b[32m[I 2021-06-12 12:31:11,686]\u001b[0m Trial 63 finished with value: 0.8585075055663289 and parameters: {'lambda': 3.069033621932167, 'alpha': 3.758964477430351e-08, 'subsample': 0.9746345605615963, 'colsample_bytree': 0.27539313814670907, 'max_depth': 4, 'min_child_weight': 4, 'eta': 0.06314365539810313, 'gamma': 0.06971643464720631, 'grow_policy': 'depthwise'}. Best is trial 57 with value: 0.8686346333405159.\u001b[0m\n",
      "\u001b[32m[I 2021-06-12 12:31:23,010]\u001b[0m Trial 64 finished with value: 0.8115348703583997 and parameters: {'lambda': 0.6379363186101753, 'alpha': 8.255650690438834e-08, 'subsample': 0.9247241378273099, 'colsample_bytree': 0.2970574417512414, 'max_depth': 4, 'min_child_weight': 7, 'eta': 0.004810046474896868, 'gamma': 0.020056388143269436, 'grow_policy': 'depthwise'}. Best is trial 57 with value: 0.8686346333405159.\u001b[0m\n",
      "\u001b[32m[I 2021-06-12 12:31:34,234]\u001b[0m Trial 65 finished with value: 0.8626014508367452 and parameters: {'lambda': 0.271210067659923, 'alpha': 5.008604206395623e-07, 'subsample': 0.9826301055178301, 'colsample_bytree': 0.2364645274924809, 'max_depth': 4, 'min_child_weight': 3, 'eta': 0.11596042319088494, 'gamma': 0.0020768412023336796, 'grow_policy': 'depthwise'}. Best is trial 57 with value: 0.8686346333405159.\u001b[0m\n",
      "\u001b[32m[I 2021-06-12 12:31:45,633]\u001b[0m Trial 66 finished with value: 0.7956618544853838 and parameters: {'lambda': 27.682669391285806, 'alpha': 5.022304522353796e-07, 'subsample': 0.9979792403674946, 'colsample_bytree': 0.2390511564677425, 'max_depth': 4, 'min_child_weight': 3, 'eta': 0.001186938582470956, 'gamma': 0.0014694844178337126, 'grow_policy': 'depthwise'}. Best is trial 57 with value: 0.8686346333405159.\u001b[0m\n",
      "\u001b[32m[I 2021-06-12 12:31:56,222]\u001b[0m Trial 67 finished with value: 0.8156288156288155 and parameters: {'lambda': 0.2586874464459431, 'alpha': 5.642456638650999e-08, 'subsample': 0.9289918723117021, 'colsample_bytree': 0.26929862637614793, 'max_depth': 3, 'min_child_weight': 2, 'eta': 0.01714601980461931, 'gamma': 0.32213164985384185, 'grow_policy': 'depthwise'}. Best is trial 57 with value: 0.8686346333405159.\u001b[0m\n",
      "\u001b[32m[I 2021-06-12 12:32:06,833]\u001b[0m Trial 68 finished with value: 0.8062199238669826 and parameters: {'lambda': 3.9506508348699296, 'alpha': 5.825569706848586e-07, 'subsample': 0.9705699971535922, 'colsample_bytree': 0.3176084039109989, 'max_depth': 3, 'min_child_weight': 3, 'eta': 0.009593126260583045, 'gamma': 0.034889706907326415, 'grow_policy': 'depthwise'}. Best is trial 57 with value: 0.8686346333405159.\u001b[0m\n",
      "\u001b[32m[I 2021-06-12 12:32:19,166]\u001b[0m Trial 69 finished with value: 0.8652589240824538 and parameters: {'lambda': 8.08492878389206, 'alpha': 1.1117437707590928e-07, 'subsample': 0.9122011358512125, 'colsample_bytree': 0.34675562731494675, 'max_depth': 4, 'min_child_weight': 5, 'eta': 0.13657564765682056, 'gamma': 0.13921329659424236, 'grow_policy': 'depthwise'}. Best is trial 57 with value: 0.8686346333405159.\u001b[0m\n",
      "\u001b[32m[I 2021-06-12 12:32:31,449]\u001b[0m Trial 70 finished with value: 0.8486676721970838 and parameters: {'lambda': 10.402028293666364, 'alpha': 1.0089297646587347e-08, 'subsample': 0.8937627113209412, 'colsample_bytree': 0.3458154892654166, 'max_depth': 4, 'min_child_weight': 5, 'eta': 0.04013833328806462, 'gamma': 0.0024452738970102555, 'grow_policy': 'depthwise'}. Best is trial 57 with value: 0.8686346333405159.\u001b[0m\n",
      "\u001b[32m[I 2021-06-12 12:32:43,300]\u001b[0m Trial 71 finished with value: 0.8618832148243915 and parameters: {'lambda': 0.8788216764622573, 'alpha': 1.6587615046906825e-07, 'subsample': 0.9445640659294952, 'colsample_bytree': 0.25240393087803614, 'max_depth': 4, 'min_child_weight': 5, 'eta': 0.09465504529932056, 'gamma': 0.7170442027478637, 'grow_policy': 'depthwise'}. Best is trial 57 with value: 0.8686346333405159.\u001b[0m\n",
      "\u001b[32m[I 2021-06-12 12:32:54,843]\u001b[0m Trial 72 finished with value: 0.8620268620268622 and parameters: {'lambda': 0.4519219652430714, 'alpha': 1.4274257666092014e-07, 'subsample': 0.9426818577437187, 'colsample_bytree': 0.30474683161122607, 'max_depth': 4, 'min_child_weight': 7, 'eta': 0.15593376506368545, 'gamma': 0.10174266694144404, 'grow_policy': 'depthwise'}. Best is trial 57 with value: 0.8686346333405159.\u001b[0m\n",
      "\u001b[32m[I 2021-06-12 12:33:07,419]\u001b[0m Trial 73 finished with value: 0.863535157652805 and parameters: {'lambda': 0.8341800794088587, 'alpha': 1.5707736757915227e-07, 'subsample': 0.9473085908433265, 'colsample_bytree': 0.2363665627188365, 'max_depth': 5, 'min_child_weight': 7, 'eta': 0.13203659439362173, 'gamma': 0.9182658860362561, 'grow_policy': 'depthwise'}. Best is trial 57 with value: 0.8686346333405159.\u001b[0m\n",
      "\u001b[32m[I 2021-06-12 12:33:17,336]\u001b[0m Trial 74 finished with value: 0.8559936795230911 and parameters: {'lambda': 1.2488324192888909, 'alpha': 1.376852262327558e-06, 'subsample': 0.9520564744953607, 'colsample_bytree': 0.22577058824164786, 'max_depth': 3, 'min_child_weight': 7, 'eta': 0.14650275304853244, 'gamma': 0.8547620025426217, 'grow_policy': 'depthwise'}. Best is trial 57 with value: 0.8686346333405159.\u001b[0m\n",
      "\u001b[32m[I 2021-06-12 12:33:30,886]\u001b[0m Trial 75 finished with value: 0.8526897938662643 and parameters: {'lambda': 10.550950743399527, 'alpha': 2.48293480124354e-08, 'subsample': 0.9161201235517741, 'colsample_bytree': 0.3102417513034984, 'max_depth': 5, 'min_child_weight': 6, 'eta': 0.042251162549357166, 'gamma': 0.7126438951104715, 'grow_policy': 'depthwise'}. Best is trial 57 with value: 0.8686346333405159.\u001b[0m\n",
      "\u001b[32m[I 2021-06-12 12:33:42,796]\u001b[0m Trial 76 finished with value: 0.8452919629390216 and parameters: {'lambda': 0.26331618586797084, 'alpha': 1.6024755550822498e-07, 'subsample': 0.9480251628660346, 'colsample_bytree': 0.24571366154591073, 'max_depth': 4, 'min_child_weight': 7, 'eta': 0.02599954129488283, 'gamma': 0.1222417993376073, 'grow_policy': 'depthwise'}. Best is trial 57 with value: 0.8686346333405159.\u001b[0m\n",
      "\u001b[32m[I 2021-06-12 12:33:58,622]\u001b[0m Trial 77 finished with value: 0.8669826905121025 and parameters: {'lambda': 0.01558180151833287, 'alpha': 3.722990177234488e-07, 'subsample': 0.8828016258397657, 'colsample_bytree': 0.9850824902784295, 'max_depth': 5, 'min_child_weight': 5, 'eta': 0.06937395000949086, 'gamma': 0.4321586141057966, 'grow_policy': 'depthwise'}. Best is trial 57 with value: 0.8686346333405159.\u001b[0m\n",
      "\u001b[32m[I 2021-06-12 12:34:14,392]\u001b[0m Trial 78 finished with value: 0.8619550384256268 and parameters: {'lambda': 0.008270158616533808, 'alpha': 4.982548333825548e-07, 'subsample': 0.8317414115597128, 'colsample_bytree': 0.9543870563516869, 'max_depth': 5, 'min_child_weight': 2, 'eta': 0.15980686167811306, 'gamma': 0.3033735489002508, 'grow_policy': 'depthwise'}. Best is trial 57 with value: 0.8686346333405159.\u001b[0m\n",
      "\u001b[32m[I 2021-06-12 12:34:29,075]\u001b[0m Trial 79 finished with value: 0.8192199956905838 and parameters: {'lambda': 0.023876667290170097, 'alpha': 1.10676161965352e-06, 'subsample': 0.8763839715220748, 'colsample_bytree': 0.7311468543905364, 'max_depth': 5, 'min_child_weight': 9, 'eta': 0.0020116587940649795, 'gamma': 0.0008140408535169326, 'grow_policy': 'depthwise'}. Best is trial 57 with value: 0.8686346333405159.\u001b[0m\n"
     ]
    },
    {
     "name": "stdout",
     "output_type": "stream",
     "text": [
      "\u001b[32m[I 2021-06-12 12:34:43,064]\u001b[0m Trial 80 finished with value: 0.8549881491057961 and parameters: {'lambda': 0.0964975301286563, 'alpha': 3.373348513312464e-07, 'subsample': 0.845204181320494, 'colsample_bytree': 0.9984320196318145, 'max_depth': 6, 'min_child_weight': 3, 'eta': 0.7356291705185382, 'gamma': 0.15766477901364506, 'grow_policy': 'depthwise'}. Best is trial 57 with value: 0.8686346333405159.\u001b[0m\n",
      "\u001b[32m[I 2021-06-12 12:34:57,257]\u001b[0m Trial 81 finished with value: 0.8700711053652233 and parameters: {'lambda': 0.0035476789641711685, 'alpha': 6.713481339626618e-07, 'subsample': 0.8226403229831781, 'colsample_bytree': 0.9355901098493511, 'max_depth': 5, 'min_child_weight': 5, 'eta': 0.20526270982110284, 'gamma': 0.4352925941089278, 'grow_policy': 'depthwise'}. Best is trial 81 with value: 0.8700711053652233.\u001b[0m\n",
      "\u001b[32m[I 2021-06-12 12:35:11,752]\u001b[0m Trial 82 finished with value: 0.8681318681318684 and parameters: {'lambda': 0.02959830910393408, 'alpha': 4.9966569889798474e-08, 'subsample': 0.9097910842952261, 'colsample_bytree': 0.9278680961698544, 'max_depth': 5, 'min_child_weight': 5, 'eta': 0.15620489415934577, 'gamma': 0.4417590532184973, 'grow_policy': 'depthwise'}. Best is trial 81 with value: 0.8700711053652233.\u001b[0m\n",
      "\u001b[32m[I 2021-06-12 12:35:27,937]\u001b[0m Trial 83 finished with value: 0.870214752567694 and parameters: {'lambda': 0.0015195190165480563, 'alpha': 5.1216946477076065e-08, 'subsample': 0.9147000581304834, 'colsample_bytree': 0.926544662594966, 'max_depth': 6, 'min_child_weight': 5, 'eta': 0.059878712532751864, 'gamma': 0.47529490097033134, 'grow_policy': 'depthwise'}. Best is trial 83 with value: 0.870214752567694.\u001b[0m\n"
     ]
    }
   ],
   "source": [
    "study = optuna.create_study(direction=\"maximize\")\n",
    "study.optimize(objective, n_trials=200, timeout=3600, show_progress_bar = True)"
   ]
  },
  {
   "cell_type": "code",
   "execution_count": null,
   "metadata": {},
   "outputs": [],
   "source": [
    "print(\"Number of finished trials: \", len(study.trials))\n",
    "print(\"Best trial:\")\n",
    "trial = study.best_trial\n",
    "\n",
    "print(\"  Value: {}\".format(trial.value))\n",
    "print(\"  Params: \")\n",
    "for key, value in trial.params.items():\n",
    "    print(\"    {}: {}\".format(key, value))"
   ]
  },
  {
   "cell_type": "code",
   "execution_count": 14,
   "metadata": {},
   "outputs": [
    {
     "data": {
      "text/plain": [
       "{}"
      ]
     },
     "execution_count": 14,
     "metadata": {},
     "output_type": "execute_result"
    }
   ],
   "source": []
  }
 ],
 "metadata": {
  "kernelspec": {
   "display_name": "Python 3",
   "language": "python",
   "name": "python3"
  },
  "language_info": {
   "codemirror_mode": {
    "name": "ipython",
    "version": 3
   },
   "file_extension": ".py",
   "mimetype": "text/x-python",
   "name": "python",
   "nbconvert_exporter": "python",
   "pygments_lexer": "ipython3",
   "version": "3.8.5"
  }
 },
 "nbformat": 4,
 "nbformat_minor": 4
}
